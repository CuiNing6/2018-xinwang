{
 "cells": [
  {
   "cell_type": "code",
   "execution_count": 1,
   "metadata": {
    "collapsed": true
   },
   "outputs": [],
   "source": [
    "import numpy as np\n",
    "import pandas as pd\n",
    "import matplotlib.pyplot as plt\n",
    "%matplotlib inline\n",
    "import time\n",
    "import random\n",
    "import warnings\n",
    "warnings.filterwarnings('ignore')"
   ]
  },
  {
   "cell_type": "code",
   "execution_count": 2,
   "metadata": {
    "collapsed": false
   },
   "outputs": [
    {
     "data": {
      "text/plain": [
       "(15000, 160)"
      ]
     },
     "execution_count": 2,
     "metadata": {},
     "output_type": "execute_result"
    }
   ],
   "source": [
    "train = pd.read_csv('../data/train_xy.csv')\n",
    "train.shape"
   ]
  },
  {
   "cell_type": "code",
   "execution_count": 3,
   "metadata": {
    "collapsed": false
   },
   "outputs": [
    {
     "data": {
      "text/plain": [
       "(10000, 159)"
      ]
     },
     "execution_count": 3,
     "metadata": {},
     "output_type": "execute_result"
    }
   ],
   "source": [
    "test = pd.read_csv('../data/train_x.csv')\n",
    "test.shape"
   ]
  },
  {
   "cell_type": "code",
   "execution_count": 13,
   "metadata": {
    "collapsed": false
   },
   "outputs": [
    {
     "data": {
      "text/plain": [
       "(15000, 103)"
      ]
     },
     "execution_count": 13,
     "metadata": {},
     "output_type": "execute_result"
    }
   ],
   "source": [
    "iv_feature = ['x_3', 'x_4', 'x_5', 'x_6', 'x_7', 'x_8', 'x_9', 'x_10', 'x_11', 'x_12', 'x_13', 'x_14', 'x_15', 'x_16', 'x_17', 'x_18', 'x_19', 'x_20', 'x_21', 'x_22', 'x_23', 'x_24', 'x_25', 'x_26', 'x_27', 'x_28', 'x_29', 'x_30', 'x_31', 'x_32', 'x_33', 'x_34', 'x_35', 'x_36', 'x_37', 'x_38', 'x_39', 'x_40', 'x_41', 'x_42', 'x_43', 'x_44', 'x_45', 'x_46', 'x_47', 'x_48', 'x_50', 'x_51', 'x_52', 'x_53', 'x_54', 'x_55', 'x_56', 'x_57', 'x_58', 'x_59', 'x_60', 'x_61', 'x_62', 'x_63', 'x_64', 'x_65', 'x_66', 'x_67', 'x_68', 'x_69', 'x_70', 'x_71', 'x_72', 'x_73', 'x_74', 'x_75', 'x_76', 'x_77', 'x_78', 'x_79', 'x_80', 'x_81', 'x_82', 'x_83', 'x_84', 'x_85', 'x_86', 'x_87', 'x_88', 'x_90', 'x_97', 'x_98', 'x_99', 'x_100', 'x_101', 'x_139', 'x_140', 'x_141', 'x_142', 'x_143', 'x_144', 'x_149', 'x_150', 'x_153', 'x_154', 'x_155', 'x_157']\n",
    "x_train = train[iv_feature]\n",
    "x_train.shape"
   ]
  },
  {
   "cell_type": "code",
   "execution_count": 14,
   "metadata": {
    "collapsed": false
   },
   "outputs": [
    {
     "data": {
      "text/plain": [
       "(10000, 103)"
      ]
     },
     "execution_count": 14,
     "metadata": {},
     "output_type": "execute_result"
    }
   ],
   "source": [
    "iv_feature = ['x_3', 'x_4', 'x_5', 'x_6', 'x_7', 'x_8', 'x_9', 'x_10', 'x_11', 'x_12', 'x_13', 'x_14', 'x_15', 'x_16', 'x_17', 'x_18', 'x_19', 'x_20', 'x_21', 'x_22', 'x_23', 'x_24', 'x_25', 'x_26', 'x_27', 'x_28', 'x_29', 'x_30', 'x_31', 'x_32', 'x_33', 'x_34', 'x_35', 'x_36', 'x_37', 'x_38', 'x_39', 'x_40', 'x_41', 'x_42', 'x_43', 'x_44', 'x_45', 'x_46', 'x_47', 'x_48', 'x_50', 'x_51', 'x_52', 'x_53', 'x_54', 'x_55', 'x_56', 'x_57', 'x_58', 'x_59', 'x_60', 'x_61', 'x_62', 'x_63', 'x_64', 'x_65', 'x_66', 'x_67', 'x_68', 'x_69', 'x_70', 'x_71', 'x_72', 'x_73', 'x_74', 'x_75', 'x_76', 'x_77', 'x_78', 'x_79', 'x_80', 'x_81', 'x_82', 'x_83', 'x_84', 'x_85', 'x_86', 'x_87', 'x_88', 'x_90', 'x_97', 'x_98', 'x_99', 'x_100', 'x_101', 'x_139', 'x_140', 'x_141', 'x_142', 'x_143', 'x_144', 'x_149', 'x_150', 'x_153', 'x_154', 'x_155', 'x_157']\n",
    "x_test = test[iv_feature]\n",
    "x_test.shape"
   ]
  },
  {
   "cell_type": "code",
   "execution_count": 15,
   "metadata": {
    "collapsed": false
   },
   "outputs": [
    {
     "data": {
      "text/plain": [
       "<matplotlib.axes._subplots.AxesSubplot at 0x20cbe586d68>"
      ]
     },
     "execution_count": 15,
     "metadata": {},
     "output_type": "execute_result"
    },
    {
     "data": {
      "image/png": "[encoded data removed]",
      "text/plain": [
       "<Figure size 432x288 with 1 Axes>"
      ]
     },
     "metadata": {},
     "output_type": "display_data"
    }
   ],
   "source": [
    "train['y'].value_counts().plot.pie(autopct = '%1.2f%%')"
   ]
  },
  {
   "cell_type": "code",
   "execution_count": 16,
   "metadata": {
    "collapsed": false
   },
   "outputs": [
    {
     "data": {
      "text/plain": [
       "(25000, 103)"
      ]
     },
     "execution_count": 16,
     "metadata": {},
     "output_type": "execute_result"
    }
   ],
   "source": [
    "x = pd.concat([x_train,x_test])\n",
    "x.shape"
   ]
  },
  {
   "cell_type": "code",
   "execution_count": 17,
   "metadata": {
    "collapsed": true
   },
   "outputs": [],
   "source": [
    "Y_train = train['y']"
   ]
  },
  {
   "cell_type": "code",
   "execution_count": 19,
   "metadata": {
    "collapsed": false
   },
   "outputs": [],
   "source": [
    "for i in range(96,158):\n",
    "    col = 'x'+'_'+str(i)\n",
    "    if col in x.columns.values:\n",
    "        dummies_df = pd.get_dummies(x[col]).rename(columns=lambda x: col + str(x))\n",
    "        x = pd.concat([x, dummies_df], axis=1)"
   ]
  },
  {
   "cell_type": "code",
   "execution_count": 20,
   "metadata": {
    "collapsed": false
   },
   "outputs": [
    {
     "data": {
      "text/html": [
       "<div>\n",
       "<style scoped>\n",
       "    .dataframe tbody tr th:only-of-type {\n",
       "        vertical-align: middle;\n",
       "    }\n",
       "\n",
       "    .dataframe tbody tr th {\n",
       "        vertical-align: top;\n",
       "    }\n",
       "\n",
       "    .dataframe thead th {\n",
       "        text-align: right;\n",
       "    }\n",
       "</style>\n",
       "<table border=\"1\" class=\"dataframe\">\n",
       "  <thead>\n",
       "    <tr style=\"text-align: right;\">\n",
       "      <th></th>\n",
       "      <th>x_3</th>\n",
       "      <th>x_4</th>\n",
       "      <th>x_5</th>\n",
       "      <th>x_6</th>\n",
       "      <th>x_7</th>\n",
       "      <th>x_8</th>\n",
       "      <th>x_9</th>\n",
       "      <th>x_10</th>\n",
       "      <th>x_11</th>\n",
       "      <th>x_12</th>\n",
       "      <th>...</th>\n",
       "      <th>x_1551</th>\n",
       "      <th>x_1552</th>\n",
       "      <th>x_1553</th>\n",
       "      <th>x_157-99</th>\n",
       "      <th>x_1571</th>\n",
       "      <th>x_1572</th>\n",
       "      <th>x_1573</th>\n",
       "      <th>x_1574</th>\n",
       "      <th>x_15710</th>\n",
       "      <th>x_15711</th>\n",
       "    </tr>\n",
       "  </thead>\n",
       "  <tbody>\n",
       "    <tr>\n",
       "      <th>0</th>\n",
       "      <td>-99</td>\n",
       "      <td>-99</td>\n",
       "      <td>-99</td>\n",
       "      <td>-99</td>\n",
       "      <td>-99</td>\n",
       "      <td>-99</td>\n",
       "      <td>-99</td>\n",
       "      <td>-99</td>\n",
       "      <td>-99</td>\n",
       "      <td>-99</td>\n",
       "      <td>...</td>\n",
       "      <td>1</td>\n",
       "      <td>0</td>\n",
       "      <td>0</td>\n",
       "      <td>1</td>\n",
       "      <td>0</td>\n",
       "      <td>0</td>\n",
       "      <td>0</td>\n",
       "      <td>0</td>\n",
       "      <td>0</td>\n",
       "      <td>0</td>\n",
       "    </tr>\n",
       "    <tr>\n",
       "      <th>1</th>\n",
       "      <td>-99</td>\n",
       "      <td>-99</td>\n",
       "      <td>-99</td>\n",
       "      <td>-99</td>\n",
       "      <td>-99</td>\n",
       "      <td>-99</td>\n",
       "      <td>-99</td>\n",
       "      <td>-99</td>\n",
       "      <td>-99</td>\n",
       "      <td>-99</td>\n",
       "      <td>...</td>\n",
       "      <td>1</td>\n",
       "      <td>0</td>\n",
       "      <td>0</td>\n",
       "      <td>0</td>\n",
       "      <td>0</td>\n",
       "      <td>1</td>\n",
       "      <td>0</td>\n",
       "      <td>0</td>\n",
       "      <td>0</td>\n",
       "      <td>0</td>\n",
       "    </tr>\n",
       "    <tr>\n",
       "      <th>2</th>\n",
       "      <td>0</td>\n",
       "      <td>0</td>\n",
       "      <td>0</td>\n",
       "      <td>0</td>\n",
       "      <td>0</td>\n",
       "      <td>0</td>\n",
       "      <td>0</td>\n",
       "      <td>0</td>\n",
       "      <td>0</td>\n",
       "      <td>0</td>\n",
       "      <td>...</td>\n",
       "      <td>1</td>\n",
       "      <td>0</td>\n",
       "      <td>0</td>\n",
       "      <td>0</td>\n",
       "      <td>0</td>\n",
       "      <td>1</td>\n",
       "      <td>0</td>\n",
       "      <td>0</td>\n",
       "      <td>0</td>\n",
       "      <td>0</td>\n",
       "    </tr>\n",
       "    <tr>\n",
       "      <th>3</th>\n",
       "      <td>0</td>\n",
       "      <td>0</td>\n",
       "      <td>0</td>\n",
       "      <td>0</td>\n",
       "      <td>1</td>\n",
       "      <td>1</td>\n",
       "      <td>0</td>\n",
       "      <td>0</td>\n",
       "      <td>0</td>\n",
       "      <td>0</td>\n",
       "      <td>...</td>\n",
       "      <td>1</td>\n",
       "      <td>0</td>\n",
       "      <td>0</td>\n",
       "      <td>0</td>\n",
       "      <td>0</td>\n",
       "      <td>0</td>\n",
       "      <td>0</td>\n",
       "      <td>1</td>\n",
       "      <td>0</td>\n",
       "      <td>0</td>\n",
       "    </tr>\n",
       "    <tr>\n",
       "      <th>4</th>\n",
       "      <td>-99</td>\n",
       "      <td>-99</td>\n",
       "      <td>-99</td>\n",
       "      <td>-99</td>\n",
       "      <td>-99</td>\n",
       "      <td>-99</td>\n",
       "      <td>0</td>\n",
       "      <td>1</td>\n",
       "      <td>1</td>\n",
       "      <td>0</td>\n",
       "      <td>...</td>\n",
       "      <td>1</td>\n",
       "      <td>0</td>\n",
       "      <td>0</td>\n",
       "      <td>0</td>\n",
       "      <td>1</td>\n",
       "      <td>0</td>\n",
       "      <td>0</td>\n",
       "      <td>0</td>\n",
       "      <td>0</td>\n",
       "      <td>0</td>\n",
       "    </tr>\n",
       "  </tbody>\n",
       "</table>\n",
       "<p>5 rows × 170 columns</p>\n",
       "</div>"
      ],
      "text/plain": [
       "   x_3  x_4  x_5  x_6  x_7  x_8  x_9  x_10  x_11  x_12   ...     x_1551  \\\n",
       "0  -99  -99  -99  -99  -99  -99  -99   -99   -99   -99   ...          1   \n",
       "1  -99  -99  -99  -99  -99  -99  -99   -99   -99   -99   ...          1   \n",
       "2    0    0    0    0    0    0    0     0     0     0   ...          1   \n",
       "3    0    0    0    0    1    1    0     0     0     0   ...          1   \n",
       "4  -99  -99  -99  -99  -99  -99    0     1     1     0   ...          1   \n",
       "\n",
       "   x_1552  x_1553  x_157-99  x_1571  x_1572  x_1573  x_1574  x_15710  x_15711  \n",
       "0       0       0         1       0       0       0       0        0        0  \n",
       "1       0       0         0       0       1       0       0        0        0  \n",
       "2       0       0         0       0       1       0       0        0        0  \n",
       "3       0       0         0       0       0       0       1        0        0  \n",
       "4       0       0         0       1       0       0       0        0        0  \n",
       "\n",
       "[5 rows x 170 columns]"
      ]
     },
     "execution_count": 20,
     "metadata": {},
     "output_type": "execute_result"
    }
   ],
   "source": [
    "x.head()"
   ]
  },
  {
   "cell_type": "code",
   "execution_count": 21,
   "metadata": {
    "collapsed": false
   },
   "outputs": [
    {
     "name": "stdout",
     "output_type": "stream",
     "text": [
      "(15000, 170)\n",
      "(10000, 170)\n"
     ]
    }
   ],
   "source": [
    "train_X = x[0:15000]\n",
    "test_X = x[15000:25000]\n",
    "print(train_X.shape)\n",
    "print(test_X.shape)"
   ]
  },
  {
   "cell_type": "code",
   "execution_count": 22,
   "metadata": {
    "collapsed": false
   },
   "outputs": [
    {
     "name": "stderr",
     "output_type": "stream",
     "text": [
      "C:\\Program Files\\Anaconda3\\lib\\site-packages\\sklearn\\ensemble\\weight_boosting.py:29: DeprecationWarning: numpy.core.umath_tests is an internal NumPy module and should not be imported. It will be removed in a future NumPy release.\n",
      "  from numpy.core.umath_tests import inner1d\n",
      "Using TensorFlow backend.\n",
      "C:\\Program Files\\Anaconda3\\lib\\site-packages\\sklearn\\cross_validation.py:41: DeprecationWarning: This module was deprecated in version 0.18 in favor of the model_selection module into which all the refactored classes and functions are moved. Also note that the interface of the new CV iterators are different from that of this module. This module will be removed in 0.20.\n",
      "  \"This module will be removed in 0.20.\", DeprecationWarning)\n"
     ]
    }
   ],
   "source": [
    "from sklearn.tree import DecisionTreeClassifier\n",
    "from sklearn.model_selection import KFold\n",
    "from sklearn.neighbors import KNeighborsClassifier\n",
    "from sklearn.neighbors import NearestNeighbors\n",
    "from sklearn.svm import SVC\n",
    "from sklearn import metrics  #accuracy_score,recall_score,f1_score\n",
    "from sklearn.metrics import classification_report\n",
    "from sklearn.metrics import precision_recall_fscore_support\n",
    "from sklearn.utils.multiclass import unique_labels\n",
    "from sklearn.metrics import accuracy_score\n",
    "from sklearn import metrics\n",
    "from xgboost import XGBClassifier\n",
    "from sklearn.ensemble import GradientBoostingClassifier\n",
    "from sklearn.model_selection import train_test_split\n",
    "from sklearn.semi_supervised import label_propagation\n",
    "from lightgbm import LGBMClassifier\n",
    "from sklearn.neighbors import KNeighborsClassifier\n",
    "\n",
    "from keras.models import Sequential\n",
    "from keras.layers import Dense, BatchNormalization, Dropout, Reshape, Flatten, MaxPool2D\n",
    "from keras.layers.convolutional import Conv2D, MaxPooling2D, Conv1D, MaxPooling1D\n",
    "from sklearn.cross_validation import train_test_split\n",
    "from keras.optimizers import RMSprop, Adam\n",
    "from keras.callbacks import ReduceLROnPlateau\n",
    "from keras.callbacks import ModelCheckpoint\n",
    "from keras.utils.np_utils import to_categorical"
   ]
  },
  {
   "cell_type": "code",
   "execution_count": 23,
   "metadata": {
    "collapsed": false
   },
   "outputs": [],
   "source": [
    "X_train,X_val,y_train,y_val= train_test_split(train_X,Y_train,test_size=0.2,random_state=2)"
   ]
  },
  {
   "cell_type": "code",
   "execution_count": 24,
   "metadata": {
    "collapsed": true
   },
   "outputs": [],
   "source": [
    "def split_data(data_):\n",
    "    idx_1 = data_[data_['label']==0].index\n",
    "    idx_2 = data_[data_['label']==1].index\n",
    "    nb_1 = len(data_.loc[idx_1])\n",
    "    nb_2 = len(data_.loc[idx_2])\n",
    "#     print(nb_1)\n",
    "#     print(nb_2)\n",
    "    idx_list_1 = list(idx_1)\n",
    "    idx_list_2 = list(idx_2)\n",
    "    train_x1 = data_.loc[idx_list_1]\n",
    "    train_x2 = data_.loc[idx_list_2]\n",
    "#     print(train_x1.shape)\n",
    "#     print(train_x2.shape)\n",
    "    return train_x1,train_x2"
   ]
  },
  {
   "cell_type": "code",
   "execution_count": 25,
   "metadata": {
    "collapsed": true
   },
   "outputs": [],
   "source": [
    "def resample_data(data, number):\n",
    "    idx_1 = data.index\n",
    "    nb_1 = len(idx_1)\n",
    "#     print(nb_1)\n",
    "#     number = int(nb_1 * rate)\n",
    "    idx_1_sub = np.random.choice(idx_1, number)\n",
    "#     print(idx_1_sub)\n",
    "    nb_2 = len(data.loc[idx_1_sub])\n",
    "#     print(nb_2)\n",
    "    idx_list_1 = list(idx_1_sub)\n",
    "    train_1 = data.loc[idx_1_sub]\n",
    "#     print(train_1.shape)\n",
    "    return train_1"
   ]
  },
  {
   "cell_type": "code",
   "execution_count": 26,
   "metadata": {
    "collapsed": true
   },
   "outputs": [],
   "source": [
    "def concat_data(train_x1, train_x2):\n",
    "    train_data1 = train_x1.drop(['label'],axis =1)\n",
    "    train_y1 = train_x1['label']\n",
    "    \n",
    "    train_data2 = train_x2.drop(['label'],axis =1)\n",
    "    train_y2 = train_x2['label']\n",
    "    \n",
    "    train_data = train_data1.append(train_data2)\n",
    "    train_y = train_y1.append(train_y2)\n",
    "    \n",
    "    return train_data, train_y"
   ]
  },
  {
   "cell_type": "code",
   "execution_count": 27,
   "metadata": {
    "collapsed": false
   },
   "outputs": [
    {
     "data": {
      "text/html": [
       "<div>\n",
       "<style scoped>\n",
       "    .dataframe tbody tr th:only-of-type {\n",
       "        vertical-align: middle;\n",
       "    }\n",
       "\n",
       "    .dataframe tbody tr th {\n",
       "        vertical-align: top;\n",
       "    }\n",
       "\n",
       "    .dataframe thead th {\n",
       "        text-align: right;\n",
       "    }\n",
       "</style>\n",
       "<table border=\"1\" class=\"dataframe\">\n",
       "  <thead>\n",
       "    <tr style=\"text-align: right;\">\n",
       "      <th></th>\n",
       "      <th>x_3</th>\n",
       "      <th>x_4</th>\n",
       "      <th>x_5</th>\n",
       "      <th>x_6</th>\n",
       "      <th>x_7</th>\n",
       "      <th>x_8</th>\n",
       "      <th>x_9</th>\n",
       "      <th>x_10</th>\n",
       "      <th>x_11</th>\n",
       "      <th>x_12</th>\n",
       "      <th>...</th>\n",
       "      <th>x_1552</th>\n",
       "      <th>x_1553</th>\n",
       "      <th>x_157-99</th>\n",
       "      <th>x_1571</th>\n",
       "      <th>x_1572</th>\n",
       "      <th>x_1573</th>\n",
       "      <th>x_1574</th>\n",
       "      <th>x_15710</th>\n",
       "      <th>x_15711</th>\n",
       "      <th>label</th>\n",
       "    </tr>\n",
       "  </thead>\n",
       "  <tbody>\n",
       "    <tr>\n",
       "      <th>1154</th>\n",
       "      <td>0</td>\n",
       "      <td>0</td>\n",
       "      <td>0</td>\n",
       "      <td>0</td>\n",
       "      <td>3</td>\n",
       "      <td>2</td>\n",
       "      <td>0</td>\n",
       "      <td>0</td>\n",
       "      <td>0</td>\n",
       "      <td>0</td>\n",
       "      <td>...</td>\n",
       "      <td>0</td>\n",
       "      <td>0</td>\n",
       "      <td>0</td>\n",
       "      <td>0</td>\n",
       "      <td>0</td>\n",
       "      <td>0</td>\n",
       "      <td>1</td>\n",
       "      <td>0</td>\n",
       "      <td>0</td>\n",
       "      <td>0</td>\n",
       "    </tr>\n",
       "    <tr>\n",
       "      <th>9804</th>\n",
       "      <td>0</td>\n",
       "      <td>0</td>\n",
       "      <td>0</td>\n",
       "      <td>0</td>\n",
       "      <td>4</td>\n",
       "      <td>2</td>\n",
       "      <td>0</td>\n",
       "      <td>0</td>\n",
       "      <td>0</td>\n",
       "      <td>0</td>\n",
       "      <td>...</td>\n",
       "      <td>0</td>\n",
       "      <td>0</td>\n",
       "      <td>1</td>\n",
       "      <td>0</td>\n",
       "      <td>0</td>\n",
       "      <td>0</td>\n",
       "      <td>0</td>\n",
       "      <td>0</td>\n",
       "      <td>0</td>\n",
       "      <td>1</td>\n",
       "    </tr>\n",
       "    <tr>\n",
       "      <th>7919</th>\n",
       "      <td>-99</td>\n",
       "      <td>-99</td>\n",
       "      <td>-99</td>\n",
       "      <td>-99</td>\n",
       "      <td>-99</td>\n",
       "      <td>-99</td>\n",
       "      <td>-99</td>\n",
       "      <td>-99</td>\n",
       "      <td>-99</td>\n",
       "      <td>-99</td>\n",
       "      <td>...</td>\n",
       "      <td>0</td>\n",
       "      <td>0</td>\n",
       "      <td>1</td>\n",
       "      <td>0</td>\n",
       "      <td>0</td>\n",
       "      <td>0</td>\n",
       "      <td>0</td>\n",
       "      <td>0</td>\n",
       "      <td>0</td>\n",
       "      <td>0</td>\n",
       "    </tr>\n",
       "    <tr>\n",
       "      <th>4854</th>\n",
       "      <td>-99</td>\n",
       "      <td>-99</td>\n",
       "      <td>-99</td>\n",
       "      <td>-99</td>\n",
       "      <td>-99</td>\n",
       "      <td>-99</td>\n",
       "      <td>-99</td>\n",
       "      <td>-99</td>\n",
       "      <td>-99</td>\n",
       "      <td>-99</td>\n",
       "      <td>...</td>\n",
       "      <td>1</td>\n",
       "      <td>0</td>\n",
       "      <td>1</td>\n",
       "      <td>0</td>\n",
       "      <td>0</td>\n",
       "      <td>0</td>\n",
       "      <td>0</td>\n",
       "      <td>0</td>\n",
       "      <td>0</td>\n",
       "      <td>0</td>\n",
       "    </tr>\n",
       "    <tr>\n",
       "      <th>5947</th>\n",
       "      <td>0</td>\n",
       "      <td>0</td>\n",
       "      <td>0</td>\n",
       "      <td>0</td>\n",
       "      <td>2</td>\n",
       "      <td>2</td>\n",
       "      <td>0</td>\n",
       "      <td>0</td>\n",
       "      <td>0</td>\n",
       "      <td>0</td>\n",
       "      <td>...</td>\n",
       "      <td>0</td>\n",
       "      <td>0</td>\n",
       "      <td>1</td>\n",
       "      <td>0</td>\n",
       "      <td>0</td>\n",
       "      <td>0</td>\n",
       "      <td>0</td>\n",
       "      <td>0</td>\n",
       "      <td>0</td>\n",
       "      <td>0</td>\n",
       "    </tr>\n",
       "  </tbody>\n",
       "</table>\n",
       "<p>5 rows × 171 columns</p>\n",
       "</div>"
      ],
      "text/plain": [
       "      x_3  x_4  x_5  x_6  x_7  x_8  x_9  x_10  x_11  x_12  ...    x_1552  \\\n",
       "1154    0    0    0    0    3    2    0     0     0     0  ...         0   \n",
       "9804    0    0    0    0    4    2    0     0     0     0  ...         0   \n",
       "7919  -99  -99  -99  -99  -99  -99  -99   -99   -99   -99  ...         0   \n",
       "4854  -99  -99  -99  -99  -99  -99  -99   -99   -99   -99  ...         1   \n",
       "5947    0    0    0    0    2    2    0     0     0     0  ...         0   \n",
       "\n",
       "      x_1553  x_157-99  x_1571  x_1572  x_1573  x_1574  x_15710  x_15711  \\\n",
       "1154       0         0       0       0       0       1        0        0   \n",
       "9804       0         1       0       0       0       0        0        0   \n",
       "7919       0         1       0       0       0       0        0        0   \n",
       "4854       0         1       0       0       0       0        0        0   \n",
       "5947       0         1       0       0       0       0        0        0   \n",
       "\n",
       "      label  \n",
       "1154      0  \n",
       "9804      1  \n",
       "7919      0  \n",
       "4854      0  \n",
       "5947      0  \n",
       "\n",
       "[5 rows x 171 columns]"
      ]
     },
     "execution_count": 27,
     "metadata": {},
     "output_type": "execute_result"
    }
   ],
   "source": [
    "xx = X_train\n",
    "xx['label'] = y_train\n",
    "\n",
    "xx.head()"
   ]
  },
  {
   "cell_type": "code",
   "execution_count": 28,
   "metadata": {
    "collapsed": false
   },
   "outputs": [
    {
     "name": "stdout",
     "output_type": "stream",
     "text": [
      "(11442, 171)\n",
      "(558, 171)\n"
     ]
    }
   ],
   "source": [
    "train_x1, train_x2 = split_data(xx)\n",
    "print(train_x1.shape)\n",
    "print(train_x2.shape)"
   ]
  },
  {
   "cell_type": "code",
   "execution_count": 115,
   "metadata": {
    "collapsed": false
   },
   "outputs": [
    {
     "name": "stdout",
     "output_type": "stream",
     "text": [
      "             precision    recall  f1-score   support\n",
      "\n",
      "    class 0       0.99      0.71      0.83      2867\n",
      "    class 1       0.11      0.78      0.20       133\n",
      "\n",
      "avg / total       0.95      0.72      0.80      3000\n",
      "\n",
      "0.7477964181468669\n"
     ]
    },
    {
     "name": "stderr",
     "output_type": "stream",
     "text": [
      "C:\\Program Files\\Anaconda3\\lib\\site-packages\\sklearn\\preprocessing\\label.py:151: DeprecationWarning: The truth value of an empty array is ambiguous. Returning False, but in future this will result in an error. Use `array.size > 0` to check that an array is not empty.\n",
      "  if diff:\n"
     ]
    }
   ],
   "source": [
    "train_temp = resample_data(train_x1, 600)\n",
    "multi_x, multi_y= concat_data(train_temp, train_x2)\n",
    "gb = XGBClassifier( n_estimators= 100, max_depth= 4, min_child_weight= 2, gamma=0.9, subsample=0.9, \n",
    "                        colsample_bytree=0.8, objective= 'binary:logistic', nthread= -1, scale_pos_weight=1).fit(multi_x, multi_y)\n",
    "\n",
    "predictions1 = gb.predict(X_val)\n",
    "\n",
    "target_names = ['class 0', 'class 1']\n",
    "print(classification_report(y_val, predictions1, target_names=target_names))\n",
    "val_auc = metrics.roc_auc_score(y_val,predictions1)#验证集上的auc值\n",
    "print(val_auc)"
   ]
  },
  {
   "cell_type": "code",
   "execution_count": 95,
   "metadata": {
    "collapsed": false
   },
   "outputs": [
    {
     "data": {
      "text/plain": [
       "array([0.92361474, 0.40386182, 0.3565814 , ..., 0.01947453, 0.86569047,\n",
       "       0.01969341], dtype=float32)"
      ]
     },
     "execution_count": 95,
     "metadata": {},
     "output_type": "execute_result"
    }
   ],
   "source": [
    "predictions1[:,1]"
   ]
  },
  {
   "cell_type": "code",
   "execution_count": 116,
   "metadata": {
    "collapsed": false,
    "scrolled": false
   },
   "outputs": [
    {
     "name": "stdout",
     "output_type": "stream",
     "text": [
      "第 1 个模型...\n",
      "第 2 个模型...\n",
      "第 3 个模型...\n",
      "第 4 个模型...\n",
      "第 5 个模型...\n",
      "第 6 个模型...\n",
      "第 7 个模型...\n",
      "第 8 个模型...\n",
      "第 9 个模型...\n",
      "第 10 个模型...\n",
      "第 11 个模型...\n",
      "第 12 个模型...\n",
      "第 13 个模型...\n",
      "第 14 个模型...\n",
      "第 15 个模型...\n",
      "第 16 个模型...\n",
      "第 17 个模型...\n",
      "第 18 个模型...\n",
      "第 19 个模型...\n",
      "第 20 个模型...\n"
     ]
    }
   ],
   "source": [
    "pred = []\n",
    "test_pred = [] \n",
    "for i in range(20):\n",
    "    print('第',i+1,'个模型...')\n",
    "    train_temp = resample_data(train_x1, 600)\n",
    "#     print(train_temp.shape)\n",
    "    multi_x, multi_y= concat_data(train_temp, train_x2)\n",
    "#     print(multi_x.shape)\n",
    "#     print(multi_y.shape)\n",
    "    \n",
    "    gbm = XGBClassifier( n_estimators= 100, max_depth= 4, min_child_weight= 2, gamma=0.9, subsample=0.9, \n",
    "                        colsample_bytree=0.8, objective= 'binary:logistic', nthread= -1, scale_pos_weight=1).fit(multi_x, multi_y)\n",
    "    \n",
    "    predictions = gbm.predict_proba(X_val)\n",
    "    \n",
    "    test_predictions = gbm.predict_proba(test_X)\n",
    "\n",
    "#     target_names = ['class 0', 'class 1']\n",
    "#     print(classification_report(y_val, predictions, target_names=target_names))\n",
    "\n",
    "#     val_acc = metrics.accuracy_score(y_val,predictions)#验证集上的auc值\n",
    "#     print(val_acc)\n",
    "    \n",
    "    pred.append(predictions[:,1])\n",
    "    test_pred.append(test_predictions[:,1])"
   ]
  },
  {
   "cell_type": "code",
   "execution_count": 155,
   "metadata": {
    "collapsed": false
   },
   "outputs": [
    {
     "name": "stdout",
     "output_type": "stream",
     "text": [
      "             precision    recall  f1-score   support\n",
      "\n",
      "    class 0       0.96      1.00      0.98      2867\n",
      "    class 1       1.00      0.01      0.01       133\n",
      "\n",
      "avg / total       0.96      0.96      0.93      3000\n",
      "\n",
      "0.956\n",
      "0.5037593984962406\n",
      "1.0\n"
     ]
    }
   ],
   "source": [
    "pred_sum = pred[0]\n",
    "for i in range(1,20):\n",
    "    pred_sum = pred_sum + pred[i]\n",
    "# print(pred_sum)\n",
    "pred_sum_av = pred_sum/20.0\n",
    "for i in range(3000):\n",
    "    if pred_sum_av[i] >= 0.95:\n",
    "        pred_sum_av[i] = 1\n",
    "    else:\n",
    "        pred_sum_av[i] = 0\n",
    "\n",
    "target_names = ['class 0', 'class 1']\n",
    "print(classification_report(y_val, pred_sum_av, target_names=target_names))\n",
    "\n",
    "val_acc = metrics.accuracy_score(y_val,pred_sum_av)#验证集上的auc值\n",
    "print(val_acc)\n",
    "val_auc = metrics.roc_auc_score(y_val,pred_sum_av)#验证集上的auc值\n",
    "print(val_auc)\n",
    "print(np.sum(pred_sum_av))"
   ]
  },
  {
   "cell_type": "code",
   "execution_count": 154,
   "metadata": {
    "collapsed": false
   },
   "outputs": [
    {
     "name": "stdout",
     "output_type": "stream",
     "text": [
      "3\n"
     ]
    }
   ],
   "source": [
    "tt = pred_sum_av + y_val\n",
    "# tt.iloc[1]\n",
    "count = 0\n",
    "for i in range(3000):\n",
    "    if tt.iloc[i] == 2:\n",
    "        count = count + 1\n",
    "print(count)"
   ]
  },
  {
   "cell_type": "code",
   "execution_count": 125,
   "metadata": {
    "collapsed": false
   },
   "outputs": [
    {
     "name": "stdout",
     "output_type": "stream",
     "text": [
      "2044.0\n",
      "(10000,)\n"
     ]
    }
   ],
   "source": [
    "test_pred_sum = test_pred[0]\n",
    "for i in range(1,20):\n",
    "    test_pred_sum = test_pred_sum + test_pred[i]\n",
    "# print(test_pred_sum)\n",
    "test_pred_sum_av = test_pred_sum/20.0\n",
    "for i in range(10000):\n",
    "    if test_pred_sum_av[i] >= 0.78:\n",
    "        test_pred_sum_av[i] = 1\n",
    "    else:\n",
    "        test_pred_sum_av[i] = 0\n",
    "\n",
    "print(np.sum(test_pred_sum_av))\n",
    "print(test_pred_sum_av.shape)"
   ]
  },
  {
   "cell_type": "code",
   "execution_count": 126,
   "metadata": {
    "collapsed": false,
    "scrolled": true
   },
   "outputs": [
    {
     "name": "stdout",
     "output_type": "stream",
     "text": [
      "第 1 个模型...\n",
      "第 2 个模型...\n",
      "第 3 个模型...\n",
      "第 4 个模型...\n",
      "第 5 个模型...\n",
      "第 6 个模型...\n",
      "第 7 个模型...\n",
      "第 8 个模型...\n",
      "第 9 个模型...\n",
      "第 10 个模型...\n",
      "第 11 个模型...\n",
      "第 12 个模型...\n",
      "第 13 个模型...\n",
      "第 14 个模型...\n",
      "第 15 个模型...\n",
      "第 16 个模型...\n",
      "第 17 个模型...\n",
      "第 18 个模型...\n",
      "第 19 个模型...\n",
      "第 20 个模型...\n"
     ]
    }
   ],
   "source": [
    "pred_2 = []\n",
    "test_pred_2 = []\n",
    "for i in range(20):\n",
    "    print('第',i+1,'个模型...')\n",
    "    train_temp = resample_data(train_x1, 600)\n",
    "#     print(train_temp.shape)\n",
    "    multi_x, multi_y= concat_data(train_temp, train_x2)\n",
    "#     print(multi_x.shape)\n",
    "#     print(multi_y.shape)\n",
    "    \n",
    "    gbm = GradientBoostingClassifier(n_estimators=100, learning_rate=0.05, min_samples_split=8, min_samples_leaf=2, max_depth=4).fit(multi_x,multi_y)\n",
    "    \n",
    "    predictions = gbm.predict_proba(X_val)\n",
    "    \n",
    "    test_predictions = gbm.predict_proba(test_X)\n",
    "\n",
    "#     target_names = ['class 0', 'class 1']\n",
    "#     print(classification_report(y_val_2, predictions, target_names=target_names))\n",
    "\n",
    "#     val_acc = metrics.accuracy_score(y_val_2,predictions)#验证集上的auc值\n",
    "#     print(val_acc)\n",
    "    \n",
    "    pred_2.append(predictions[:,1])\n",
    "    test_pred_2.append(test_predictions[:,1])"
   ]
  },
  {
   "cell_type": "code",
   "execution_count": 127,
   "metadata": {
    "collapsed": false
   },
   "outputs": [
    {
     "name": "stdout",
     "output_type": "stream",
     "text": [
      "             precision    recall  f1-score   support\n",
      "\n",
      "    class 0       0.97      0.94      0.95      2867\n",
      "    class 1       0.18      0.29      0.22       133\n",
      "\n",
      "avg / total       0.93      0.91      0.92      3000\n",
      "\n",
      "0.9086666666666666\n",
      "0.6116398425432258\n",
      "217.0\n"
     ]
    }
   ],
   "source": [
    "gbdt_pred_sum = pred_2[0]\n",
    "for i in range(1,20):\n",
    "    gbdt_pred_sum = gbdt_pred_sum + pred_2[i]\n",
    "# print(pred_sum)\n",
    "gbdt_pred_sum_av = gbdt_pred_sum/20.0\n",
    "for i in range(3000):\n",
    "    if gbdt_pred_sum_av[i] >= 0.75:\n",
    "        gbdt_pred_sum_av[i] = 1\n",
    "    else:\n",
    "        gbdt_pred_sum_av[i] = 0\n",
    "\n",
    "target_names = ['class 0', 'class 1']\n",
    "print(classification_report(y_val, gbdt_pred_sum_av, target_names=target_names))\n",
    "\n",
    "val_acc = metrics.accuracy_score(y_val,gbdt_pred_sum_av)#验证集上的auc值\n",
    "print(val_acc)\n",
    "val_auc = metrics.roc_auc_score(y_val,gbdt_pred_sum_av)#验证集上的auc值\n",
    "print(val_auc)\n",
    "print(np.sum(gbdt_pred_sum_av))"
   ]
  },
  {
   "cell_type": "code",
   "execution_count": 128,
   "metadata": {
    "collapsed": false
   },
   "outputs": [
    {
     "name": "stdout",
     "output_type": "stream",
     "text": [
      "2056.0\n",
      "(10000,)\n"
     ]
    }
   ],
   "source": [
    "gbdt_test_pred_sum = test_pred_2[0]\n",
    "for i in range(1,20):\n",
    "    gbdt_test_pred_sum = gbdt_test_pred_sum + test_pred_2[i]\n",
    "# print(test_pred_sum)\n",
    "gbdt_test_pred_sum_av = gbdt_test_pred_sum/20.0\n",
    "for i in range(10000):\n",
    "    if gbdt_test_pred_sum_av[i] >= 0.75:\n",
    "        gbdt_test_pred_sum_av[i] = 1\n",
    "    else:\n",
    "        gbdt_test_pred_sum_av[i] = 0\n",
    "\n",
    "print(np.sum(gbdt_test_pred_sum_av))\n",
    "print(gbdt_test_pred_sum_av.shape)"
   ]
  },
  {
   "cell_type": "code",
   "execution_count": 130,
   "metadata": {
    "collapsed": false
   },
   "outputs": [
    {
     "name": "stdout",
     "output_type": "stream",
     "text": [
      "[0. 0. 0. ... 0. 1. 0.]\n",
      "             precision    recall  f1-score   support\n",
      "\n",
      "    class 0       0.97      0.93      0.95      2867\n",
      "    class 1       0.17      0.31      0.22       133\n",
      "\n",
      "avg / total       0.93      0.90      0.91      3000\n",
      "\n",
      "0.901\n",
      "0.6183836815617698\n",
      "246.0\n"
     ]
    }
   ],
   "source": [
    "pred_sum_sum = pred_sum_av + gbdt_pred_sum_av\n",
    "print(pred_sum_sum)\n",
    "for i in range(3000):\n",
    "    if pred_sum_sum[i] >= 1:\n",
    "        pred_sum_sum[i] = 1\n",
    "    else:\n",
    "        pred_sum_sum[i] = 0\n",
    "\n",
    "target_names = ['class 0', 'class 1']\n",
    "print(classification_report(y_val, pred_sum_sum, target_names=target_names))\n",
    "\n",
    "val_acc = metrics.accuracy_score(y_val,pred_sum_sum)#验证集上的acc值\n",
    "print(val_acc)\n",
    "# val_acc1 = metrics.accuracy_score(y_val,predictions)#验证集上的acc值\n",
    "# print(val_acc1)\n",
    "val_auc = metrics.roc_auc_score(y_val,pred_sum_sum)#验证集上的auc值\n",
    "print(val_auc)\n",
    "# val_auc1 = metrics.roc_auc_score(y_val,predictions)#验证集上的auc值\n",
    "# print(val_auc1)\n",
    "print(np.sum(pred_sum_sum))"
   ]
  },
  {
   "cell_type": "code",
   "execution_count": 131,
   "metadata": {
    "collapsed": false
   },
   "outputs": [
    {
     "name": "stdout",
     "output_type": "stream",
     "text": [
      "[0. 0. 2. ... 0. 0. 2.]\n",
      "2299.0\n"
     ]
    }
   ],
   "source": [
    "test_pred_sum_sum = test_pred_sum_av + gbdt_test_pred_sum_av\n",
    "print(test_pred_sum_sum)\n",
    "for i in range(10000):\n",
    "    if test_pred_sum_sum[i] >= 1:\n",
    "        test_pred_sum_sum[i] = 1\n",
    "    else:\n",
    "        test_pred_sum_sum[i] = 0\n",
    "\n",
    "\n",
    "print(np.sum(test_pred_sum_sum))"
   ]
  },
  {
   "cell_type": "code",
   "execution_count": 132,
   "metadata": {
    "collapsed": false
   },
   "outputs": [
    {
     "data": {
      "text/plain": [
       "(25000, 1)"
      ]
     },
     "execution_count": 132,
     "metadata": {},
     "output_type": "execute_result"
    }
   ],
   "source": [
    "pred_sum_pd = pd.DataFrame(test_pred_sum_sum)\n",
    "y = Y_train.append(pred_sum_pd)\n",
    "y.shape"
   ]
  },
  {
   "cell_type": "code",
   "execution_count": 133,
   "metadata": {
    "collapsed": false
   },
   "outputs": [
    {
     "data": {
      "text/plain": [
       "(25000, 103)"
      ]
     },
     "execution_count": 133,
     "metadata": {},
     "output_type": "execute_result"
    }
   ],
   "source": [
    "xx = pd.concat([x_train,x_test])\n",
    "xx.shape"
   ]
  },
  {
   "cell_type": "code",
   "execution_count": 134,
   "metadata": {
    "collapsed": true
   },
   "outputs": [],
   "source": [
    "xx['y'] = y"
   ]
  },
  {
   "cell_type": "code",
   "execution_count": 135,
   "metadata": {
    "collapsed": true
   },
   "outputs": [],
   "source": [
    "xx.to_csv('../data/train_xy_all3.csv',index=False)"
   ]
  },
  {
   "cell_type": "code",
   "execution_count": 84,
   "metadata": {
    "collapsed": true
   },
   "outputs": [],
   "source": [
    "ddd = pd.read_csv('../data/train_xy_all.csv')"
   ]
  },
  {
   "cell_type": "code",
   "execution_count": 136,
   "metadata": {
    "collapsed": false
   },
   "outputs": [
    {
     "data": {
      "text/plain": [
       "3426"
      ]
     },
     "execution_count": 136,
     "metadata": {},
     "output_type": "execute_result"
    }
   ],
   "source": [
    "np.sum(ddd.y)"
   ]
  },
  {
   "cell_type": "code",
   "execution_count": null,
   "metadata": {
    "collapsed": true
   },
   "outputs": [],
   "source": []
  },
  {
   "cell_type": "code",
   "execution_count": 282,
   "metadata": {
    "collapsed": true
   },
   "outputs": [],
   "source": [
    "def pretreatment(train, test):\n",
    "    x_test = test.drop(['cust_group','cust_id'],axis=1)\n",
    "    x_train = train.drop(['cust_group','y','cust_id'],axis =1)\n",
    "    \n",
    "    x = pd.concat([x_train,x_test])\n",
    "    print(x.shape)\n",
    "    \n",
    "    for i in range(96,158):\n",
    "        col = 'x'+'_'+str(i)\n",
    "        dummies_df = pd.get_dummies(x[col]).rename(columns=lambda x: col + str(x))\n",
    "        x = pd.concat([x, dummies_df], axis=1)\n",
    "    \n",
    "    train_X = x[0:15000]\n",
    "    test_X = x[15000:25000]\n",
    "    print(train_X.shape)\n",
    "    print(test_X.shape)\n",
    "    \n",
    "    X_train,X_val,y_train,y_val= train_test_split(train_X,Y_train,test_size=0.2,random_state=2)\n",
    "    \n",
    "    xx = X_train\n",
    "    xx['label'] = y_train\n",
    "\n",
    "    xxx = xx.corr()\n",
    "    columns = xxx[xxx['label']>0].index.values\n",
    "#     print(columns)\n",
    "    \n",
    "    xxxx = xx[columns]\n",
    "    number = xxxx.shape[1]\n",
    "    \n",
    "    column = columns[1:number]\n",
    "    \n",
    "    X_val = X_val[column]\n",
    "    print(X_val.shape)\n",
    "\n",
    "    test_X = test_X[column]\n",
    "    print(test_X.shape)\n",
    "\n",
    "    return xxxx,X_val,test_X,y_val"
   ]
  },
  {
   "cell_type": "code",
   "execution_count": 283,
   "metadata": {
    "collapsed": false
   },
   "outputs": [
    {
     "name": "stdout",
     "output_type": "stream",
     "text": [
      "(23449, 158)\n",
      "(15000, 359)\n",
      "(8449, 359)\n",
      "(3000, 130)\n",
      "(8449, 130)\n",
      "(11442, 131)\n",
      "(558, 131)\n"
     ]
    }
   ],
   "source": [
    "xxxx_2,X_val_2,test_X_2,y_val_2 = pretreatment(train, test_x2)\n",
    "train_x1_2, train_x2_2 = split_data(xxxx_2)\n",
    "print(train_x1_2.shape)\n",
    "print(train_x2_2.shape)"
   ]
  },
  {
   "cell_type": "code",
   "execution_count": 284,
   "metadata": {
    "collapsed": false
   },
   "outputs": [
    {
     "data": {
      "text/html": [
       "<div>\n",
       "<style scoped>\n",
       "    .dataframe tbody tr th:only-of-type {\n",
       "        vertical-align: middle;\n",
       "    }\n",
       "\n",
       "    .dataframe tbody tr th {\n",
       "        vertical-align: top;\n",
       "    }\n",
       "\n",
       "    .dataframe thead th {\n",
       "        text-align: right;\n",
       "    }\n",
       "</style>\n",
       "<table border=\"1\" class=\"dataframe\">\n",
       "  <thead>\n",
       "    <tr style=\"text-align: right;\">\n",
       "      <th></th>\n",
       "      <th>x_10</th>\n",
       "      <th>x_100</th>\n",
       "      <th>x_101</th>\n",
       "      <th>x_104</th>\n",
       "      <th>x_105</th>\n",
       "      <th>x_11</th>\n",
       "      <th>x_12</th>\n",
       "      <th>x_121</th>\n",
       "      <th>x_122</th>\n",
       "      <th>x_124</th>\n",
       "      <th>...</th>\n",
       "      <th>x_153-99</th>\n",
       "      <th>x_1532</th>\n",
       "      <th>x_1533</th>\n",
       "      <th>x_1542</th>\n",
       "      <th>x_1543</th>\n",
       "      <th>x_1552</th>\n",
       "      <th>x_1553</th>\n",
       "      <th>x_156-99</th>\n",
       "      <th>x_1562</th>\n",
       "      <th>x_157-99</th>\n",
       "    </tr>\n",
       "  </thead>\n",
       "  <tbody>\n",
       "    <tr>\n",
       "      <th>7592</th>\n",
       "      <td>-99</td>\n",
       "      <td>1</td>\n",
       "      <td>1</td>\n",
       "      <td>-99</td>\n",
       "      <td>-99</td>\n",
       "      <td>-99</td>\n",
       "      <td>-99</td>\n",
       "      <td>-99</td>\n",
       "      <td>-99</td>\n",
       "      <td>-99</td>\n",
       "      <td>...</td>\n",
       "      <td>0</td>\n",
       "      <td>0</td>\n",
       "      <td>1</td>\n",
       "      <td>0</td>\n",
       "      <td>1</td>\n",
       "      <td>0</td>\n",
       "      <td>1</td>\n",
       "      <td>0</td>\n",
       "      <td>1</td>\n",
       "      <td>1</td>\n",
       "    </tr>\n",
       "    <tr>\n",
       "      <th>3551</th>\n",
       "      <td>-99</td>\n",
       "      <td>1</td>\n",
       "      <td>1</td>\n",
       "      <td>-99</td>\n",
       "      <td>-99</td>\n",
       "      <td>-99</td>\n",
       "      <td>-99</td>\n",
       "      <td>-99</td>\n",
       "      <td>-99</td>\n",
       "      <td>-99</td>\n",
       "      <td>...</td>\n",
       "      <td>0</td>\n",
       "      <td>0</td>\n",
       "      <td>0</td>\n",
       "      <td>0</td>\n",
       "      <td>0</td>\n",
       "      <td>0</td>\n",
       "      <td>0</td>\n",
       "      <td>0</td>\n",
       "      <td>0</td>\n",
       "      <td>0</td>\n",
       "    </tr>\n",
       "    <tr>\n",
       "      <th>9698</th>\n",
       "      <td>0</td>\n",
       "      <td>1</td>\n",
       "      <td>1</td>\n",
       "      <td>-99</td>\n",
       "      <td>-99</td>\n",
       "      <td>0</td>\n",
       "      <td>0</td>\n",
       "      <td>-99</td>\n",
       "      <td>-99</td>\n",
       "      <td>-99</td>\n",
       "      <td>...</td>\n",
       "      <td>0</td>\n",
       "      <td>0</td>\n",
       "      <td>0</td>\n",
       "      <td>1</td>\n",
       "      <td>0</td>\n",
       "      <td>1</td>\n",
       "      <td>0</td>\n",
       "      <td>0</td>\n",
       "      <td>1</td>\n",
       "      <td>0</td>\n",
       "    </tr>\n",
       "    <tr>\n",
       "      <th>3759</th>\n",
       "      <td>-99</td>\n",
       "      <td>1</td>\n",
       "      <td>1</td>\n",
       "      <td>-99</td>\n",
       "      <td>-99</td>\n",
       "      <td>-99</td>\n",
       "      <td>-99</td>\n",
       "      <td>-99</td>\n",
       "      <td>-99</td>\n",
       "      <td>-99</td>\n",
       "      <td>...</td>\n",
       "      <td>0</td>\n",
       "      <td>0</td>\n",
       "      <td>0</td>\n",
       "      <td>0</td>\n",
       "      <td>0</td>\n",
       "      <td>0</td>\n",
       "      <td>0</td>\n",
       "      <td>0</td>\n",
       "      <td>1</td>\n",
       "      <td>0</td>\n",
       "    </tr>\n",
       "    <tr>\n",
       "      <th>2353</th>\n",
       "      <td>1</td>\n",
       "      <td>1</td>\n",
       "      <td>1</td>\n",
       "      <td>-99</td>\n",
       "      <td>-99</td>\n",
       "      <td>1</td>\n",
       "      <td>0</td>\n",
       "      <td>-99</td>\n",
       "      <td>-99</td>\n",
       "      <td>-99</td>\n",
       "      <td>...</td>\n",
       "      <td>0</td>\n",
       "      <td>0</td>\n",
       "      <td>0</td>\n",
       "      <td>0</td>\n",
       "      <td>0</td>\n",
       "      <td>0</td>\n",
       "      <td>0</td>\n",
       "      <td>0</td>\n",
       "      <td>1</td>\n",
       "      <td>0</td>\n",
       "    </tr>\n",
       "  </tbody>\n",
       "</table>\n",
       "<p>5 rows × 130 columns</p>\n",
       "</div>"
      ],
      "text/plain": [
       "      x_10  x_100  x_101  x_104  x_105  x_11  x_12  x_121  x_122  x_124  \\\n",
       "7592   -99      1      1    -99    -99   -99   -99    -99    -99    -99   \n",
       "3551   -99      1      1    -99    -99   -99   -99    -99    -99    -99   \n",
       "9698     0      1      1    -99    -99     0     0    -99    -99    -99   \n",
       "3759   -99      1      1    -99    -99   -99   -99    -99    -99    -99   \n",
       "2353     1      1      1    -99    -99     1     0    -99    -99    -99   \n",
       "\n",
       "        ...     x_153-99  x_1532  x_1533  x_1542  x_1543  x_1552  x_1553  \\\n",
       "7592    ...            0       0       1       0       1       0       1   \n",
       "3551    ...            0       0       0       0       0       0       0   \n",
       "9698    ...            0       0       0       1       0       1       0   \n",
       "3759    ...            0       0       0       0       0       0       0   \n",
       "2353    ...            0       0       0       0       0       0       0   \n",
       "\n",
       "      x_156-99  x_1562  x_157-99  \n",
       "7592         0       1         1  \n",
       "3551         0       0         0  \n",
       "9698         0       1         0  \n",
       "3759         0       1         0  \n",
       "2353         0       1         0  \n",
       "\n",
       "[5 rows x 130 columns]"
      ]
     },
     "execution_count": 284,
     "metadata": {},
     "output_type": "execute_result"
    }
   ],
   "source": [
    "X_val_2.head()"
   ]
  },
  {
   "cell_type": "code",
   "execution_count": 297,
   "metadata": {
    "collapsed": false,
    "scrolled": true
   },
   "outputs": [
    {
     "name": "stdout",
     "output_type": "stream",
     "text": [
      "第 1 个模型...\n",
      "0.698\n",
      "第 2 个模型...\n",
      "0.7006666666666667\n",
      "第 3 个模型...\n",
      "0.693\n",
      "第 4 个模型...\n",
      "0.708\n",
      "第 5 个模型...\n",
      "0.686\n",
      "第 6 个模型...\n",
      "0.713\n",
      "第 7 个模型...\n",
      "0.7106666666666667\n",
      "第 8 个模型...\n",
      "0.7163333333333334\n",
      "第 9 个模型...\n",
      "0.7056666666666667\n",
      "第 10 个模型...\n",
      "0.694\n",
      "第 11 个模型...\n",
      "0.6896666666666667\n",
      "第 12 个模型...\n",
      "0.692\n",
      "第 13 个模型...\n",
      "0.719\n",
      "第 14 个模型...\n",
      "0.721\n",
      "第 15 个模型...\n",
      "0.679\n",
      "第 16 个模型...\n",
      "0.7063333333333334\n",
      "第 17 个模型...\n",
      "0.7126666666666667\n",
      "第 18 个模型...\n",
      "0.7223333333333334\n",
      "第 19 个模型...\n",
      "0.7006666666666667\n",
      "第 20 个模型...\n",
      "0.7116666666666667\n",
      "第 21 个模型...\n",
      "0.7143333333333334\n",
      "第 22 个模型...\n",
      "0.712\n",
      "第 23 个模型...\n",
      "0.671\n",
      "第 24 个模型...\n",
      "0.699\n",
      "第 25 个模型...\n",
      "0.6876666666666666\n",
      "第 26 个模型...\n",
      "0.7073333333333334\n",
      "第 27 个模型...\n",
      "0.6893333333333334\n",
      "第 28 个模型...\n",
      "0.6853333333333333\n",
      "第 29 个模型...\n",
      "0.6856666666666666\n",
      "第 30 个模型...\n",
      "0.72\n",
      "第 31 个模型...\n",
      "0.7003333333333334\n",
      "第 32 个模型...\n",
      "0.7113333333333334\n",
      "第 33 个模型...\n",
      "0.7096666666666667\n",
      "第 34 个模型...\n",
      "0.7163333333333334\n",
      "第 35 个模型...\n",
      "0.682\n",
      "第 36 个模型...\n",
      "0.7283333333333334\n",
      "第 37 个模型...\n",
      "0.7036666666666667\n",
      "第 38 个模型...\n",
      "0.7013333333333334\n",
      "第 39 个模型...\n",
      "0.6963333333333334\n",
      "第 40 个模型...\n",
      "0.7146666666666667\n",
      "第 41 个模型...\n",
      "0.6923333333333334\n",
      "第 42 个模型...\n",
      "0.7026666666666667\n",
      "第 43 个模型...\n",
      "0.701\n",
      "第 44 个模型...\n",
      "0.7033333333333334\n",
      "第 45 个模型...\n",
      "0.718\n",
      "第 46 个模型...\n",
      "0.7076666666666667\n",
      "第 47 个模型...\n",
      "0.7086666666666667\n",
      "第 48 个模型...\n",
      "0.716\n",
      "第 49 个模型...\n",
      "0.7\n",
      "第 50 个模型...\n",
      "0.708\n",
      "第 51 个模型...\n",
      "0.7066666666666667\n",
      "第 52 个模型...\n",
      "0.7306666666666667\n",
      "第 53 个模型...\n",
      "0.7133333333333334\n",
      "第 54 个模型...\n",
      "0.718\n",
      "第 55 个模型...\n",
      "0.7106666666666667\n",
      "第 56 个模型...\n",
      "0.7296666666666667\n",
      "第 57 个模型...\n",
      "0.7126666666666667\n",
      "第 58 个模型...\n",
      "0.707\n",
      "第 59 个模型...\n",
      "0.701\n",
      "第 60 个模型...\n",
      "0.7156666666666667\n",
      "第 61 个模型...\n",
      "0.6826666666666666\n",
      "第 62 个模型...\n",
      "0.716\n",
      "第 63 个模型...\n",
      "0.7116666666666667\n",
      "第 64 个模型...\n",
      "0.71\n",
      "第 65 个模型...\n",
      "0.7063333333333334\n",
      "第 66 个模型...\n",
      "0.7086666666666667\n",
      "第 67 个模型...\n",
      "0.6973333333333334\n",
      "第 68 个模型...\n",
      "0.7156666666666667\n",
      "第 69 个模型...\n",
      "0.691\n",
      "第 70 个模型...\n",
      "0.7063333333333334\n",
      "第 71 个模型...\n",
      "0.7063333333333334\n",
      "第 72 个模型...\n",
      "0.709\n",
      "第 73 个模型...\n",
      "0.6926666666666667\n",
      "第 74 个模型...\n",
      "0.7256666666666667\n",
      "第 75 个模型...\n",
      "0.7273333333333334\n",
      "第 76 个模型...\n",
      "0.7216666666666667\n",
      "第 77 个模型...\n",
      "0.6876666666666666\n",
      "第 78 个模型...\n",
      "0.728\n",
      "第 79 个模型...\n",
      "0.708\n",
      "第 80 个模型...\n",
      "0.7293333333333333\n",
      "第 81 个模型...\n",
      "0.7076666666666667\n",
      "第 82 个模型...\n",
      "0.7053333333333334\n",
      "第 83 个模型...\n",
      "0.7006666666666667\n",
      "第 84 个模型...\n",
      "0.7043333333333334\n",
      "第 85 个模型...\n",
      "0.6993333333333334\n",
      "第 86 个模型...\n",
      "0.711\n",
      "第 87 个模型...\n",
      "0.7033333333333334\n",
      "第 88 个模型...\n",
      "0.6963333333333334\n",
      "第 89 个模型...\n",
      "0.6913333333333334\n",
      "第 90 个模型...\n",
      "0.6783333333333333\n",
      "第 91 个模型...\n",
      "0.7136666666666667\n",
      "第 92 个模型...\n",
      "0.693\n",
      "第 93 个模型...\n",
      "0.718\n",
      "第 94 个模型...\n",
      "0.7036666666666667\n",
      "第 95 个模型...\n",
      "0.7086666666666667\n",
      "第 96 个模型...\n",
      "0.7086666666666667\n",
      "第 97 个模型...\n",
      "0.7103333333333334\n",
      "第 98 个模型...\n",
      "0.7156666666666667\n",
      "第 99 个模型...\n",
      "0.7003333333333334\n",
      "第 100 个模型...\n",
      "0.7033333333333334\n",
      "第 101 个模型...\n",
      "0.7143333333333334\n",
      "第 102 个模型...\n",
      "0.6976666666666667\n",
      "第 103 个模型...\n",
      "0.7003333333333334\n",
      "第 104 个模型...\n",
      "0.7283333333333334\n",
      "第 105 个模型...\n",
      "0.695\n",
      "第 106 个模型...\n",
      "0.7143333333333334\n",
      "第 107 个模型...\n",
      "0.7086666666666667\n",
      "第 108 个模型...\n",
      "0.7156666666666667\n",
      "第 109 个模型...\n",
      "0.6933333333333334\n",
      "第 110 个模型...\n",
      "0.696\n",
      "第 111 个模型...\n",
      "0.7116666666666667\n",
      "第 112 个模型...\n",
      "0.7096666666666667\n",
      "第 113 个模型...\n",
      "0.713\n",
      "第 114 个模型...\n",
      "0.7043333333333334\n",
      "第 115 个模型...\n",
      "0.706\n",
      "第 116 个模型...\n",
      "0.72\n",
      "第 117 个模型...\n",
      "0.699\n",
      "第 118 个模型...\n",
      "0.6873333333333334\n",
      "第 119 个模型...\n",
      "0.703\n",
      "第 120 个模型...\n",
      "0.718\n",
      "第 121 个模型...\n",
      "0.702\n",
      "第 122 个模型...\n",
      "0.6903333333333334\n",
      "第 123 个模型...\n",
      "0.7113333333333334\n",
      "第 124 个模型...\n",
      "0.704\n",
      "第 125 个模型...\n",
      "0.7216666666666667\n",
      "第 126 个模型...\n",
      "0.7093333333333334\n",
      "第 127 个模型...\n",
      "0.7013333333333334\n",
      "第 128 个模型...\n",
      "0.7206666666666667\n",
      "第 129 个模型...\n",
      "0.736\n",
      "第 130 个模型...\n",
      "0.709\n",
      "第 131 个模型...\n",
      "0.694\n",
      "第 132 个模型...\n",
      "0.688\n",
      "第 133 个模型...\n",
      "0.7123333333333334\n",
      "第 134 个模型...\n",
      "0.731\n",
      "第 135 个模型...\n",
      "0.7086666666666667\n",
      "第 136 个模型...\n",
      "0.7046666666666667\n",
      "第 137 个模型...\n",
      "0.706\n",
      "第 138 个模型...\n",
      "0.6926666666666667\n",
      "第 139 个模型...\n",
      "0.695\n",
      "第 140 个模型...\n",
      "0.6986666666666667\n",
      "第 141 个模型...\n",
      "0.6723333333333333\n",
      "第 142 个模型...\n",
      "0.7003333333333334\n",
      "第 143 个模型...\n",
      "0.6933333333333334\n",
      "第 144 个模型...\n",
      "0.7126666666666667\n",
      "第 145 个模型...\n",
      "0.6996666666666667\n",
      "第 146 个模型...\n",
      "0.711\n",
      "第 147 个模型...\n",
      "0.6806666666666666\n",
      "第 148 个模型...\n",
      "0.702\n",
      "第 149 个模型...\n",
      "0.721\n",
      "第 150 个模型...\n",
      "0.6996666666666667\n",
      "第 151 个模型...\n",
      "0.693\n",
      "第 152 个模型...\n",
      "0.697\n",
      "第 153 个模型...\n",
      "0.7103333333333334\n",
      "第 154 个模型...\n",
      "0.7036666666666667\n",
      "第 155 个模型...\n",
      "0.721\n",
      "第 156 个模型...\n",
      "0.7126666666666667\n",
      "第 157 个模型...\n",
      "0.6946666666666667\n",
      "第 158 个模型...\n",
      "0.7013333333333334\n",
      "第 159 个模型...\n",
      "0.7016666666666667\n",
      "第 160 个模型...\n",
      "0.7053333333333334\n",
      "第 161 个模型...\n",
      "0.6873333333333334\n",
      "第 162 个模型...\n",
      "0.7266666666666667\n",
      "第 163 个模型...\n",
      "0.71\n",
      "第 164 个模型...\n",
      "0.697\n",
      "第 165 个模型...\n",
      "0.7253333333333334\n",
      "第 166 个模型...\n",
      "0.7013333333333334\n",
      "第 167 个模型...\n",
      "0.6886666666666666\n",
      "第 168 个模型...\n",
      "0.705\n",
      "第 169 个模型...\n",
      "0.707\n",
      "第 170 个模型...\n",
      "0.7056666666666667\n",
      "第 171 个模型...\n",
      "0.7176666666666667\n",
      "第 172 个模型...\n",
      "0.7123333333333334\n",
      "第 173 个模型...\n",
      "0.704\n",
      "第 174 个模型...\n",
      "0.7073333333333334\n",
      "第 175 个模型...\n",
      "0.7073333333333334\n",
      "第 176 个模型...\n",
      "0.702\n",
      "第 177 个模型...\n",
      "0.685\n",
      "第 178 个模型...\n",
      "0.6836666666666666\n",
      "第 179 个模型...\n",
      "0.727\n",
      "第 180 个模型...\n",
      "0.6946666666666667\n",
      "第 181 个模型...\n",
      "0.689\n",
      "第 182 个模型...\n",
      "0.7103333333333334\n",
      "第 183 个模型...\n",
      "0.687\n",
      "第 184 个模型...\n",
      "0.709\n",
      "第 185 个模型...\n",
      "0.7063333333333334\n",
      "第 186 个模型...\n",
      "0.6986666666666667\n",
      "第 187 个模型...\n",
      "0.7173333333333334\n",
      "第 188 个模型...\n",
      "0.6993333333333334\n",
      "第 189 个模型...\n",
      "0.691\n",
      "第 190 个模型...\n",
      "0.695\n",
      "第 191 个模型...\n",
      "0.703\n",
      "第 192 个模型...\n",
      "0.7073333333333334\n",
      "第 193 个模型...\n",
      "0.6926666666666667\n",
      "第 194 个模型...\n",
      "0.7273333333333334\n",
      "第 195 个模型...\n",
      "0.7316666666666667\n",
      "第 196 个模型...\n",
      "0.7076666666666667\n",
      "第 197 个模型...\n",
      "0.7096666666666667\n",
      "第 198 个模型...\n",
      "0.7013333333333334\n",
      "第 199 个模型...\n",
      "0.7003333333333334\n",
      "第 200 个模型...\n",
      "0.694\n"
     ]
    }
   ],
   "source": [
    "pred_2 = []\n",
    "test_pred_2 = [] \n",
    "for i in range(200):\n",
    "    print('第',i+1,'个模型...')\n",
    "    train_temp = resample_data(train_x1_2, 600)\n",
    "#     print(train_temp.shape)\n",
    "    multi_x, multi_y= concat_data(train_temp, train_x2_2)\n",
    "#     print(multi_x.shape)\n",
    "#     print(multi_y.shape)\n",
    "    \n",
    "    gbm = GradientBoostingClassifier(n_estimators=100, learning_rate=0.05,max_depth=4, random_state=0).fit(multi_x, multi_y)\n",
    "    \n",
    "    predictions = gbm.predict(X_val_2)\n",
    "    \n",
    "    test_predictions = gbm.predict(test_X_2)\n",
    "\n",
    "    target_names = ['class 0', 'class 1']\n",
    "#     print(classification_report(y_val_2, predictions, target_names=target_names))\n",
    "\n",
    "    val_acc = metrics.accuracy_score(y_val_2,predictions)#验证集上的auc值\n",
    "    print(val_acc)\n",
    "    \n",
    "    pred_2.append(predictions)\n",
    "    test_pred_2.append(test_predictions)"
   ]
  },
  {
   "cell_type": "code",
   "execution_count": 313,
   "metadata": {
    "collapsed": false
   },
   "outputs": [
    {
     "name": "stdout",
     "output_type": "stream",
     "text": [
      "[197   0   4 ...   0 189   0]\n",
      "             precision    recall  f1-score   support\n",
      "\n",
      "    class 0       0.96      0.93      0.95      2867\n",
      "    class 1       0.15      0.25      0.18       133\n",
      "\n",
      "avg / total       0.93      0.90      0.91      3000\n",
      "\n",
      "0.902\n",
      "227\n"
     ]
    }
   ],
   "source": [
    "pred_sum2 = pred_2[0]\n",
    "for i in range(1,200):\n",
    "    pred_sum2 = pred_sum2 + pred_2[i]\n",
    "print(pred_sum2)\n",
    "for i in range(3000):\n",
    "    if pred_sum2[i] >= 200:\n",
    "        pred_sum2[i] = 1\n",
    "    else:\n",
    "        pred_sum2[i] = 0\n",
    "\n",
    "target_names = ['class 0', 'class 1']\n",
    "print(classification_report(y_val_2, pred_sum2, target_names=target_names))\n",
    "\n",
    "val_acc = metrics.accuracy_score(y_val_2, pred_sum2)#验证集上的auc值\n",
    "print(val_acc)\n",
    "print(np.sum(pred_sum2))"
   ]
  },
  {
   "cell_type": "code",
   "execution_count": 314,
   "metadata": {
    "collapsed": false,
    "scrolled": true
   },
   "outputs": [
    {
     "name": "stdout",
     "output_type": "stream",
     "text": [
      "[160  96 200 ...  45 188 197]\n",
      "1283\n",
      "(8449,)\n"
     ]
    }
   ],
   "source": [
    "test_pred_sum2 = test_pred_2[0]\n",
    "for i in range(1,200):\n",
    "    test_pred_sum2 = test_pred_sum2 + test_pred_2[i]\n",
    "print(test_pred_sum2)\n",
    "for i in range(8449):\n",
    "    if test_pred_sum2[i] >= 200:\n",
    "        test_pred_sum2[i] = 1\n",
    "    else:\n",
    "        test_pred_sum2[i] = 0\n",
    "\n",
    "print(np.sum(test_pred_sum2))\n",
    "print(test_pred_sum2.shape)"
   ]
  },
  {
   "cell_type": "code",
   "execution_count": 300,
   "metadata": {
    "collapsed": false
   },
   "outputs": [
    {
     "name": "stdout",
     "output_type": "stream",
     "text": [
      "(473, 160)\n",
      "(7976, 160)\n"
     ]
    }
   ],
   "source": [
    "test_x2['label'] = test_pred_sum2\n",
    "\n",
    "test_x3,test_x4 = split_data(test_x2)\n",
    "print(test_x3.shape)\n",
    "print(test_x4.shape)"
   ]
  },
  {
   "cell_type": "code",
   "execution_count": 294,
   "metadata": {
    "collapsed": false,
    "scrolled": true
   },
   "outputs": [],
   "source": [
    "test_x3.to_csv('../data/train_x_y2.csv',index=False)"
   ]
  },
  {
   "cell_type": "code",
   "execution_count": 252,
   "metadata": {
    "collapsed": false
   },
   "outputs": [],
   "source": [
    "# pred_sum3 = pred3[0]\n",
    "# for i in range(1,200):\n",
    "#     pred_sum3 = pred_sum3 + pred3[i]\n",
    "# print(pred_sum)\n",
    "# for i in range(3000):\n",
    "#     if pred_sum3[i] >= 1:\n",
    "#         pred_sum3[i] = 1\n",
    "#     else:\n",
    "#         pred_sum3[i] = 0\n",
    "\n",
    "# target_names = ['class 0', 'class 1']\n",
    "# print(classification_report(y_val, pred_sum3, target_names=target_names))\n",
    "\n",
    "# val_acc = metrics.accuracy_score(y_val,pred_sum3)#验证集上的auc值\n",
    "# print(val_acc)\n",
    "# print(np.sum(pred_sum3))"
   ]
  },
  {
   "cell_type": "code",
   "execution_count": 253,
   "metadata": {
    "collapsed": false
   },
   "outputs": [],
   "source": [
    "# pred4 = []\n",
    "# for i in range(1):\n",
    "#     print('第',i+1,'个模型...')\n",
    "#     train_temp = resample_data(train_x1, 600)\n",
    "# #     print(train_temp.shape)\n",
    "#     multi_x, multi_y= concat_data(train_temp, train_x2)\n",
    "# #     print(multi_x.shape)\n",
    "# #     print(multi_y.shape)\n",
    "    \n",
    "#     clf = SVC(kernel='linear', C=1).fit(multi_x, multi_y)\n",
    "    \n",
    "#     predictions = clf.predict(X_val)\n",
    "\n",
    "#     target_names = ['class 0', 'class 1']\n",
    "#     print(classification_report(y_val, predictions, target_names=target_names))\n",
    "\n",
    "#     val_acc = metrics.accuracy_score(y_val,predictions)#验证集上的auc值\n",
    "#     print(val_acc)\n",
    "    \n",
    "#     pred4.append(predictions)"
   ]
  },
  {
   "cell_type": "code",
   "execution_count": 254,
   "metadata": {
    "collapsed": true
   },
   "outputs": [],
   "source": [
    "# pred_sum4 = pred4[0]\n",
    "# for i in range(1,200):\n",
    "#     pred_sum4 = pred_sum4 + pred4[i]\n",
    "# print(pred_sum4)\n",
    "# for i in range(3000):\n",
    "#     if pred_sum4[i] >= 180:\n",
    "#         pred_sum4[i] = 1\n",
    "#     else:\n",
    "#         pred_sum4[i] = 0\n",
    "\n",
    "# target_names = ['class 0', 'class 1']\n",
    "# print(classification_report(y_val, pred_sum4, target_names=target_names))\n",
    "\n",
    "# val_acc = metrics.accuracy_score(y_val,pred_sum4)#验证集上的auc值\n",
    "# print(val_acc)\n",
    "# print(np.sum(pred_sum4))"
   ]
  },
  {
   "cell_type": "code",
   "execution_count": null,
   "metadata": {
    "collapsed": true
   },
   "outputs": [],
   "source": []
  },
  {
   "cell_type": "code",
   "execution_count": null,
   "metadata": {
    "collapsed": true
   },
   "outputs": [],
   "source": []
  },
  {
   "cell_type": "code",
   "execution_count": null,
   "metadata": {
    "collapsed": true
   },
   "outputs": [],
   "source": []
  },
  {
   "cell_type": "code",
   "execution_count": null,
   "metadata": {
    "collapsed": true
   },
   "outputs": [],
   "source": []
  },
  {
   "cell_type": "code",
   "execution_count": null,
   "metadata": {
    "collapsed": true
   },
   "outputs": [],
   "source": []
  },
  {
   "cell_type": "code",
   "execution_count": 241,
   "metadata": {
    "collapsed": false
   },
   "outputs": [
    {
     "name": "stdout",
     "output_type": "stream",
     "text": [
      "[3 0 1 ... 0 3 0]\n",
      "             precision    recall  f1-score   support\n",
      "\n",
      "    class 0       1.00      0.35      0.52      2867\n",
      "    class 1       0.07      0.98      0.12       133\n",
      "\n",
      "avg / total       0.96      0.38      0.50      3000\n",
      "\n",
      "0.379\n",
      "1990\n"
     ]
    }
   ],
   "source": [
    "pred_sum_sum = pred_sum + pred_sum1 + pred_sum2\n",
    "print(pred_sum_sum)\n",
    "for i in range(3000):\n",
    "    if pred_sum_sum[i] >= 1:\n",
    "        pred_sum_sum[i] = 1\n",
    "    else:\n",
    "        pred_sum_sum[i] = 0\n",
    "\n",
    "target_names = ['class 0', 'class 1']\n",
    "print(classification_report(y_val, pred_sum_sum, target_names=target_names))\n",
    "\n",
    "val_acc = metrics.accuracy_score(y_val,pred_sum_sum)#验证集上的auc值\n",
    "print(val_acc)\n",
    "print(np.sum(pred_sum_sum))"
   ]
  },
  {
   "cell_type": "code",
   "execution_count": 185,
   "metadata": {
    "collapsed": false
   },
   "outputs": [
    {
     "data": {
      "text/plain": [
       "133"
      ]
     },
     "execution_count": 185,
     "metadata": {},
     "output_type": "execute_result"
    }
   ],
   "source": [
    "np.sum(y_val)"
   ]
  },
  {
   "cell_type": "code",
   "execution_count": null,
   "metadata": {
    "collapsed": true
   },
   "outputs": [],
   "source": []
  }
 ],
 "metadata": {
  "anaconda-cloud": {},
  "kernelspec": {
   "display_name": "Python [default]",
   "language": "python",
   "name": "python3"
  },
  "language_info": {
   "codemirror_mode": {
    "name": "ipython",
    "version": 3
   },
   "file_extension": ".py",
   "mimetype": "text/x-python",
   "name": "python",
   "nbconvert_exporter": "python",
   "pygments_lexer": "ipython3",
   "version": "3.5.2"
  }
 },
 "nbformat": 4,
 "nbformat_minor": 1
}
